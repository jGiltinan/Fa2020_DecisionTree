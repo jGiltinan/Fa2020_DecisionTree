{
 "cells": [
  {
   "cell_type": "code",
   "execution_count": null,
   "metadata": {},
   "outputs": [],
   "source": [
    "from sklearn.preprocessing import LabelEncoder\n",
    "from sklearn.tree import DecisionTreeClassifier\n",
    "import pandas as pd"
   ]
  },
  {
   "cell_type": "code",
   "execution_count": null,
   "metadata": {},
   "outputs": [],
   "source": [
    "golf = pd.read_csv('https://raw.githubusercontent.com/jGiltinan/Fa2020_DecisionTree/master/golf.csv', delimiter='\\t')\n",
    "golf_original = golf.copy(deep = True)\n",
    "golf"
   ]
  },
  {
   "cell_type": "code",
   "execution_count": null,
   "metadata": {},
   "outputs": [],
   "source": [
    "le_outlook = LabelEncoder()\n",
    "ok = le_outlook.fit_transform(golf['Outlook'])\n",
    "golf['Outlook'] = ok\n",
    "\n",
    "le_temperature_nominal = LabelEncoder()\n",
    "t_n = le_temperature_nominal.fit_transform(golf['Temperature_Nominal'])\n",
    "golf['Temperature_Nominal'] = t_n\n",
    "\n",
    "le_humidity_nominal = LabelEncoder()\n",
    "h_n = le_humidity_nominal.fit_transform(golf['Humidity_Nominal'])\n",
    "golf['Humidity_Nominal'] = h_n\n",
    "\n",
    "le_windy = LabelEncoder()\n",
    "windy = le_windy.fit_transform(golf['Windy'])\n",
    "golf['Windy'] = windy\n",
    "\n",
    "\n",
    "le_play = LabelEncoder()\n",
    "play = le_play.fit_transform(golf['Play'])\n",
    "golf.drop(columns=['Play'], inplace=True)\n",
    "golf\n",
    "\n",
    "#Use only nominal values\n",
    "golf.drop(columns=['Temperature_Numeric', 'Humidity_Numeric'], inplace = True)\n",
    "#golf.drop(columns=['Humidity_Numeric'], inplace = True)\n",
    "golf"
   ]
  },
  {
   "cell_type": "code",
   "execution_count": null,
   "metadata": {},
   "outputs": [],
   "source": [
    "play"
   ]
  },
  {
   "cell_type": "code",
   "execution_count": null,
   "metadata": {},
   "outputs": [],
   "source": [
    "#dt = DecisionTreeClassifier(max_depth = 2, criterion = 'entropy', min_samples_leaf = 2, random_state = 42)\n",
    "dt = DecisionTreeClassifier(max_depth = 4, criterion = 'entropy', random_state = 42)\n",
    "dt.fit(golf,play)\n",
    "dt.score(golf,play)"
   ]
  },
  {
   "cell_type": "code",
   "execution_count": null,
   "metadata": {},
   "outputs": [],
   "source": [
    "import matplotlib.pyplot as plt\n",
    "from sklearn.tree import plot_tree\n",
    "plt.figure(figsize=(25,10))\n",
    "a = plot_tree(dt, \n",
    "              feature_names=golf.columns,  \n",
    "              filled=True, \n",
    "              rounded=True, \n",
    "              fontsize=14)"
   ]
  },
  {
   "cell_type": "code",
   "execution_count": null,
   "metadata": {},
   "outputs": [],
   "source": [
    "golf_original"
   ]
  },
  {
   "cell_type": "code",
   "execution_count": null,
   "metadata": {},
   "outputs": [],
   "source": []
  }
 ],
 "metadata": {
  "kernelspec": {
   "display_name": "Python 3",
   "language": "python",
   "name": "python3"
  },
  "language_info": {
   "codemirror_mode": {
    "name": "ipython",
    "version": 3
   },
   "file_extension": ".py",
   "mimetype": "text/x-python",
   "name": "python",
   "nbconvert_exporter": "python",
   "pygments_lexer": "ipython3",
   "version": "3.7.8"
  }
 },
 "nbformat": 4,
 "nbformat_minor": 4
}
